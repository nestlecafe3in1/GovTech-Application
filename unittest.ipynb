{
 "cells": [
  {
   "cell_type": "code",
   "execution_count": 9,
   "metadata": {},
   "outputs": [
    {
     "name": "stdout",
     "output_type": "stream",
     "text": [
      "Restaurant Data exported successfully to restaurants.csv\n",
      "Events data exported successfully to restaurant_events.csv\n",
      "Rating statistics exported successfully\n"
     ]
    },
    {
     "name": "stderr",
     "output_type": "stream",
     "text": [
      "C:\\Users\\junke\\AppData\\Local\\Temp\\ipykernel_18032\\3893491828.py:22: SettingWithCopyWarning: \n",
      "A value is trying to be set on a copy of a slice from a DataFrame.\n",
      "Try using .loc[row_indexer,col_indexer] = value instead\n",
      "\n",
      "See the caveats in the documentation: https://pandas.pydata.org/pandas-docs/stable/user_guide/indexing.html#returning-a-view-versus-a-copy\n",
      "  filtered_df['restaurant.user_rating.aggregate_rating'] = filtered_df['restaurant.user_rating.aggregate_rating'].astype(\"float64\")\n"
     ]
    }
   ],
   "source": [
    "# Import Application code to this notebook\n",
    "%run ./Application.ipynb"
   ]
  },
  {
   "cell_type": "code",
   "execution_count": 10,
   "metadata": {},
   "outputs": [],
   "source": [
    "import unittest\n",
    "from unittest.mock import patch, MagicMock\n",
    "import pandas as pd"
   ]
  },
  {
   "cell_type": "code",
   "execution_count": 4,
   "metadata": {},
   "outputs": [],
   "source": [
    "class TestRestaurantDataProcessor(unittest.TestCase):\n",
    "    def setUp(self):\n",
    "        \"\"\"Prepare resources for tests.\"\"\"\n",
    "\n",
    "        self.url = \"https://raw.githubusercontent.com/Papagoat/brain-assessment/main/restaurant_data.json\"\n",
    "        self.country_code_file = \"country_codes.csv\"\n",
    "        self.output_file_path = \"processed_restaurants.csv\"\n",
    "        self.processor = RestaurantDataProcessor(self.url, self.country_code_file, self.output_file_path)\n",
    "\n",
    "    def test_fetch_json_data(self):\n",
    "        \"\"\"Test fetching JSON data.\"\"\"\n",
    "        with patch('requests.get') as mock_get:\n",
    "            mock_response = MagicMock()\n",
    "            mock_response.ok = True\n",
    "            mock_response.json.return_value = {\"restaurants\": []}\n",
    "            mock_get.return_value = mock_response\n",
    "\n",
    "            result = self.processor.fetch_json_data()\n",
    "            self.assertIsNotNone(result)\n",
    "            mock_get.assert_called_once_with(self.url)\n",
    "\n",
    "            mock_response.ok = False\n",
    "            result = self.processor.fetch_json_data()\n",
    "            self.assertIsNone(result)\n",
    "\n",
    "    def test_read_country_code_data(self):\n",
    "        \"\"\"Test reading country code data.\"\"\"\n",
    "        with patch('pandas.read_csv') as mock_read_csv:\n",
    "            mock_read_csv.return_value = pd.DataFrame(data={\"Country Code\": [\"IN\"], \"Country\": [\"India\"]})\n",
    "            result = self.processor.read_country_code_data()\n",
    "            self.assertIsNotNone(result)\n",
    "            mock_read_csv.assert_called_once_with(self.country_code_file)\n",
    "\n",
    "            mock_read_csv.side_effect = FileNotFoundError\n",
    "            result = self.processor.read_country_code_data()\n",
    "            self.assertIsNone(result)\n",
    "\n",
    "    def test_merge_data(self):\n",
    "        \"\"\"Test merging JSON and CSV data.\"\"\"\n",
    "        parsed_data = {\"restaurants\": [{\"restaurant\": {\"location\": {\"country_id\": \"IN\"}}}]}\n",
    "        country_code_df = pd.DataFrame(data={\"Country Code\": [\"IN\"], \"Country\": [\"India\"]})\n",
    "        result = self.processor.merge_data(parsed_data, country_code_df)\n",
    "        self.assertIn(\"Country\", result.columns)\n",
    "\n",
    "    def test_process_merged_data(self):\n",
    "        \"\"\"Test processing merged DataFrame.\"\"\"\n",
    "        merged_df = pd.DataFrame(data={\n",
    "            \"restaurant.R.res_id\": [1],\n",
    "            \"restaurant.name\": [\"Test Restaurant\"],\n",
    "            \"Country\": [\"India\"],\n",
    "            \"restaurant.location.city\": [\"Test City\"],\n",
    "            \"restaurant.user_rating.votes\": [100],\n",
    "            \"restaurant.user_rating.aggregate_rating\": [\"4.5\"],\n",
    "            \"restaurant.cuisines\": [\"Indian\"]\n",
    "        })\n",
    "        result = self.processor.process_merged_data(merged_df)\n",
    "        self.assertIn(\"Restaurant Name\", result.columns)\n",
    "        self.assertTrue(result[\"User Aggregate Rating\"].dtype == float)\n",
    "\n",
    "    def test_export_df_to_csv(self):\n",
    "        \"\"\"Test exporting DataFrame to CSV.\"\"\"\n",
    "        with patch('pandas.DataFrame.to_csv') as mock_to_csv:\n",
    "            df = pd.DataFrame()\n",
    "            self.processor.export_df_to_csv(df)\n",
    "            mock_to_csv.assert_called_once_with(self.output_file_path, index=False)\n",
    "\n",
    "    def test_run(self):\n",
    "        \"\"\"Test the run method orchestrating the workflow.\"\"\"\n",
    "        with patch.object(RestaurantDataProcessor, 'fetch_json_data') as mock_fetch, \\\n",
    "             patch.object(RestaurantDataProcessor, 'read_country_code_data') as mock_read, \\\n",
    "             patch.object(RestaurantDataProcessor, 'merge_data') as mock_merge, \\\n",
    "             patch.object(RestaurantDataProcessor, 'process_merged_data') as mock_process, \\\n",
    "             patch.object(RestaurantDataProcessor, 'export_df_to_csv') as mock_export:\n",
    "                \n",
    "            mock_fetch.return_value = {\"restaurants\": []}\n",
    "            mock_read.return_value = pd.DataFrame()\n",
    "            mock_merge.return_value = pd.DataFrame()\n",
    "            mock_process.return_value = pd.DataFrame()\n",
    "\n",
    "            self.processor.run()\n",
    "\n",
    "            mock_fetch.assert_called_once()\n",
    "            mock_read.assert_called_once()\n",
    "            mock_merge.assert_called_once()\n",
    "            mock_process.assert_called_once()\n",
    "            mock_export.assert_called_once()\n"
   ]
  },
  {
   "cell_type": "code",
   "execution_count": 8,
   "metadata": {},
   "outputs": [],
   "source": [
    "if __name__ == '__main__':\n",
    "    unittest.main(argv=['first-arg-is-ignored'], exit=False)"
   ]
  }
 ],
 "metadata": {
  "kernelspec": {
   "display_name": "Python 3",
   "language": "python",
   "name": "python3"
  },
  "language_info": {
   "codemirror_mode": {
    "name": "ipython",
    "version": 3
   },
   "file_extension": ".py",
   "mimetype": "text/x-python",
   "name": "python",
   "nbconvert_exporter": "python",
   "pygments_lexer": "ipython3",
   "version": "3.11.1"
  }
 },
 "nbformat": 4,
 "nbformat_minor": 2
}
